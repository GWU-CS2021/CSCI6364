{
 "cells": [
  {
   "cell_type": "markdown",
   "id": "b7a05716",
   "metadata": {},
   "source": [
    "Correct high-level explanation of what feeding-forward is\n",
    "- Feeding forward is the algorithem to generate the activation of nodes in the next layer based on the previous layer's activation, weight and biases. "
   ]
  },
  {
   "cell_type": "code",
   "execution_count": null,
   "id": "e4f9b7a8",
   "metadata": {},
   "outputs": [],
   "source": []
  },
  {
   "cell_type": "markdown",
   "id": "5712acc9",
   "metadata": {},
   "source": [
    "Correct high-level explanation of what back-propagation is\n",
    "- back-propagation is the algorithm to find the disired adjustments, In the way that reduces the overall cost of the model, to the weight and bias in the previous layer according to a single training example."
   ]
  },
  {
   "cell_type": "code",
   "execution_count": null,
   "id": "263a3a58",
   "metadata": {},
   "outputs": [],
   "source": []
  },
  {
   "cell_type": "markdown",
   "id": "4d5bbc58",
   "metadata": {},
   "source": [
    "Correct explanation of what inputs/outputs/weights of a specific weight for a specific node need to be considered as part of back propagation calculation for that weight"
   ]
  },
  {
   "cell_type": "code",
   "execution_count": null,
   "id": "0f053f8d",
   "metadata": {},
   "outputs": [],
   "source": []
  },
  {
   "cell_type": "markdown",
   "id": "239c2b11",
   "metadata": {},
   "source": [
    "Correct diagram (drawn from scratch) with labels for all items in the bullet above"
   ]
  },
  {
   "cell_type": "code",
   "execution_count": null,
   "id": "089ee2ae",
   "metadata": {},
   "outputs": [],
   "source": []
  },
  {
   "cell_type": "markdown",
   "id": "192a961c",
   "metadata": {},
   "source": [
    "Correct explanation of diagram above, including formulas for derivates"
   ]
  },
  {
   "cell_type": "code",
   "execution_count": null,
   "id": "31593efb",
   "metadata": {},
   "outputs": [],
   "source": []
  },
  {
   "cell_type": "code",
   "execution_count": null,
   "id": "0cb31a71",
   "metadata": {},
   "outputs": [],
   "source": []
  }
 ],
 "metadata": {
  "kernelspec": {
   "display_name": "Python 3 (ipykernel)",
   "language": "python",
   "name": "python3"
  },
  "language_info": {
   "codemirror_mode": {
    "name": "ipython",
    "version": 3
   },
   "file_extension": ".py",
   "mimetype": "text/x-python",
   "name": "python",
   "nbconvert_exporter": "python",
   "pygments_lexer": "ipython3",
   "version": "3.9.7"
  }
 },
 "nbformat": 4,
 "nbformat_minor": 5
}
